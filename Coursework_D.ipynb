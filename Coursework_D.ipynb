{
  "nbformat": 4,
  "nbformat_minor": 0,
  "metadata": {
    "colab": {
      "provenance": []
    },
    "kernelspec": {
      "name": "python3",
      "display_name": "Python 3"
    },
    "language_info": {
      "name": "python"
    }
  },
  "cells": [
    {
      "cell_type": "markdown",
      "source": [
        "## Overview\n",
        "In this notebook, we attempt to decompose the MNIST dataset into its PCA components and see how a trained neutral model perform with a reduced (in terms of dimensionality) test MNIST dataset and plot a graph of N-best PCA component vs testing accuracy. After that, we train a neutral model using the 100 and 20-best PCA components and test the model again."
      ],
      "metadata": {
        "id": "hPDhVxBQoYDu"
      }
    },
    {
      "cell_type": "code",
      "source": [
        "import matplotlib.pyplot as plt\n",
        "import numpy as np\n",
        "import math\n",
        "\n",
        "# TensorFlow and tf.keras\n",
        "import tensorflow as tf\n",
        "from tensorflow import keras\n",
        "\n",
        "import matplotlib.style #Some style nonsense\n",
        "import matplotlib as mpl #Some more style nonsense\n",
        "\n",
        "from scipy import linalg\n",
        "\n",
        "#Set default figure size\n",
        "#mpl.rcParams['figure.figsize'] = [12.0, 8.0] #Inches... of course it is inches\n",
        "mpl.rcParams[\"legend.frameon\"] = False\n",
        "mpl.rcParams['figure.dpi']=200 # dots per inch\n",
        "\n",
        "#Useful for debugging problems\n",
        "print(tf.__version__)"
      ],
      "metadata": {
        "colab": {
          "base_uri": "https://localhost:8080/"
        },
        "id": "-8mSkIE0oZHJ",
        "outputId": "84a7b656-90e1-49e3-bf03-f87e10898c0b"
      },
      "execution_count": 1,
      "outputs": [
        {
          "output_type": "stream",
          "name": "stdout",
          "text": [
            "2.15.0\n"
          ]
        }
      ]
    },
    {
      "cell_type": "markdown",
      "source": [
        "## Task 1\n",
        "Train a neural network on the MNIST training dataset that achieves acceptable performance on the test dataset (>95% accuracy).\n"
      ],
      "metadata": {
        "id": "-8Goma9LpuSf"
      }
    },
    {
      "cell_type": "code",
      "source": [
        "# We have done this in Coursework C so I will take the code from there.\n",
        "\n",
        "## Load the MNIST dataset\n",
        "mnist = keras.datasets.mnist\n",
        "(train_images, train_labels), (test_images, test_labels) = mnist.load_data()\n",
        "\n",
        "print(train_images.shape)\n",
        "print(train_labels.shape)\n",
        "print(test_images.shape)\n",
        "print(test_labels.shape)\n",
        "\n",
        "# normalise the image's pixel\n",
        "\n",
        "train_images=train_images/255.0\n",
        "test_images=test_images/255.0\n",
        "\n",
        "# Design a new multi-convolution neutral network\n",
        "\n",
        "model = keras.Sequential([\n",
        "    keras.layers.Conv2D(32,kernel_size=(3,3),activation='relu', input_shape=(28,28,1),padding='same'),\n",
        "    keras.layers.AveragePooling2D(pool_size=(3,3),padding='same'),\n",
        "    keras.layers.Conv2D(64,kernel_size=(3,3),activation='relu',padding='same'),\n",
        "    keras.layers.AveragePooling2D(pool_size=(3,3),padding='same'),\n",
        "    keras.layers.Flatten(),\n",
        "    keras.layers.Dense(30,activation='relu'),\n",
        "    keras.layers.Dense(10,activation='softmax')\n",
        "])\n",
        "\n",
        "model.compile(loss=tf.keras.losses.SparseCategoricalCrossentropy(from_logits=True), optimizer=tf.keras.optimizers.SGD(lr=1.0),\n",
        "              metrics=['accuracy'])\n",
        "model.summary()\n",
        "\n",
        "history=model.fit(train_images, train_labels,batch_size=128, epochs=30)"
      ],
      "metadata": {
        "colab": {
          "base_uri": "https://localhost:8080/"
        },
        "id": "HmAhwfy4pr-W",
        "outputId": "e7e22326-6ff3-4411-d153-3fc218c02e11"
      },
      "execution_count": 2,
      "outputs": [
        {
          "output_type": "stream",
          "name": "stdout",
          "text": [
            "Downloading data from https://storage.googleapis.com/tensorflow/tf-keras-datasets/mnist.npz\n",
            "11490434/11490434 [==============================] - 0s 0us/step\n",
            "(60000, 28, 28)\n",
            "(60000,)\n",
            "(10000, 28, 28)\n",
            "(10000,)\n"
          ]
        },
        {
          "output_type": "stream",
          "name": "stderr",
          "text": [
            "WARNING:absl:`lr` is deprecated in Keras optimizer, please use `learning_rate` or use the legacy optimizer, e.g.,tf.keras.optimizers.legacy.SGD.\n"
          ]
        },
        {
          "output_type": "stream",
          "name": "stdout",
          "text": [
            "Model: \"sequential\"\n",
            "_________________________________________________________________\n",
            " Layer (type)                Output Shape              Param #   \n",
            "=================================================================\n",
            " conv2d (Conv2D)             (None, 28, 28, 32)        320       \n",
            "                                                                 \n",
            " average_pooling2d (Average  (None, 10, 10, 32)        0         \n",
            " Pooling2D)                                                      \n",
            "                                                                 \n",
            " conv2d_1 (Conv2D)           (None, 10, 10, 64)        18496     \n",
            "                                                                 \n",
            " average_pooling2d_1 (Avera  (None, 4, 4, 64)          0         \n",
            " gePooling2D)                                                    \n",
            "                                                                 \n",
            " flatten (Flatten)           (None, 1024)              0         \n",
            "                                                                 \n",
            " dense (Dense)               (None, 30)                30750     \n",
            "                                                                 \n",
            " dense_1 (Dense)             (None, 10)                310       \n",
            "                                                                 \n",
            "=================================================================\n",
            "Total params: 49876 (194.83 KB)\n",
            "Trainable params: 49876 (194.83 KB)\n",
            "Non-trainable params: 0 (0.00 Byte)\n",
            "_________________________________________________________________\n",
            "Epoch 1/30\n"
          ]
        },
        {
          "output_type": "stream",
          "name": "stderr",
          "text": [
            "/usr/local/lib/python3.10/dist-packages/keras/src/backend.py:5727: UserWarning: \"`sparse_categorical_crossentropy` received `from_logits=True`, but the `output` argument was produced by a Softmax activation and thus does not represent logits. Was this intended?\n",
            "  output, from_logits = _get_logits(\n"
          ]
        },
        {
          "output_type": "stream",
          "name": "stdout",
          "text": [
            "469/469 [==============================] - 38s 78ms/step - loss: 2.2854 - accuracy: 0.2436\n",
            "Epoch 2/30\n",
            "469/469 [==============================] - 30s 64ms/step - loss: 2.1557 - accuracy: 0.3636\n",
            "Epoch 3/30\n",
            "469/469 [==============================] - 30s 65ms/step - loss: 1.3220 - accuracy: 0.6531\n",
            "Epoch 4/30\n",
            "469/469 [==============================] - 32s 68ms/step - loss: 0.7030 - accuracy: 0.7881\n",
            "Epoch 5/30\n",
            "469/469 [==============================] - 30s 64ms/step - loss: 0.5669 - accuracy: 0.8282\n",
            "Epoch 6/30\n",
            "469/469 [==============================] - 33s 71ms/step - loss: 0.4873 - accuracy: 0.8533\n",
            "Epoch 7/30\n",
            "469/469 [==============================] - 33s 71ms/step - loss: 0.4294 - accuracy: 0.8699\n",
            "Epoch 8/30\n",
            "469/469 [==============================] - 35s 75ms/step - loss: 0.3855 - accuracy: 0.8838\n",
            "Epoch 9/30\n",
            "469/469 [==============================] - 37s 79ms/step - loss: 0.3512 - accuracy: 0.8941\n",
            "Epoch 10/30\n",
            "469/469 [==============================] - 36s 77ms/step - loss: 0.3220 - accuracy: 0.9033\n",
            "Epoch 11/30\n",
            "469/469 [==============================] - 37s 78ms/step - loss: 0.2993 - accuracy: 0.9095\n",
            "Epoch 12/30\n",
            "469/469 [==============================] - 36s 76ms/step - loss: 0.2793 - accuracy: 0.9149\n",
            "Epoch 13/30\n",
            "469/469 [==============================] - 40s 85ms/step - loss: 0.2620 - accuracy: 0.9203\n",
            "Epoch 14/30\n",
            "469/469 [==============================] - 34s 72ms/step - loss: 0.2486 - accuracy: 0.9255\n",
            "Epoch 15/30\n",
            "469/469 [==============================] - 34s 73ms/step - loss: 0.2347 - accuracy: 0.9301\n",
            "Epoch 16/30\n",
            "469/469 [==============================] - 34s 73ms/step - loss: 0.2235 - accuracy: 0.9344\n",
            "Epoch 17/30\n",
            "469/469 [==============================] - 30s 64ms/step - loss: 0.2148 - accuracy: 0.9359\n",
            "Epoch 18/30\n",
            "469/469 [==============================] - 32s 68ms/step - loss: 0.2048 - accuracy: 0.9387\n",
            "Epoch 19/30\n",
            "469/469 [==============================] - 30s 65ms/step - loss: 0.1969 - accuracy: 0.9415\n",
            "Epoch 20/30\n",
            "469/469 [==============================] - 32s 67ms/step - loss: 0.1903 - accuracy: 0.9430\n",
            "Epoch 21/30\n",
            "469/469 [==============================] - 30s 64ms/step - loss: 0.1836 - accuracy: 0.9460\n",
            "Epoch 22/30\n",
            "469/469 [==============================] - 31s 66ms/step - loss: 0.1766 - accuracy: 0.9468\n",
            "Epoch 23/30\n",
            "469/469 [==============================] - 36s 77ms/step - loss: 0.1727 - accuracy: 0.9484\n",
            "Epoch 24/30\n",
            "469/469 [==============================] - 34s 73ms/step - loss: 0.1666 - accuracy: 0.9505\n",
            "Epoch 25/30\n",
            "469/469 [==============================] - 37s 78ms/step - loss: 0.1625 - accuracy: 0.9513\n",
            "Epoch 26/30\n",
            "469/469 [==============================] - 37s 79ms/step - loss: 0.1583 - accuracy: 0.9530\n",
            "Epoch 27/30\n",
            "469/469 [==============================] - 33s 70ms/step - loss: 0.1546 - accuracy: 0.9538\n",
            "Epoch 28/30\n",
            "469/469 [==============================] - 32s 69ms/step - loss: 0.1514 - accuracy: 0.9553\n",
            "Epoch 29/30\n",
            "469/469 [==============================] - 32s 68ms/step - loss: 0.1470 - accuracy: 0.9563\n",
            "Epoch 30/30\n",
            "469/469 [==============================] - 31s 67ms/step - loss: 0.1439 - accuracy: 0.9569\n"
          ]
        }
      ]
    },
    {
      "cell_type": "markdown",
      "source": [
        "## Result for Task 1\n"
      ],
      "metadata": {
        "id": "4vQCwDCuqswx"
      }
    },
    {
      "cell_type": "code",
      "source": [
        "test_loss,test_acc=model.evaluate(test_images,test_labels,verbose=2)\n",
        "print(\"The accuracy of the trained model is \", test_acc *100, \"%\" )\n",
        "print(test_images.shape)\n",
        "print(test_labels.shape)"
      ],
      "metadata": {
        "colab": {
          "base_uri": "https://localhost:8080/"
        },
        "id": "aMBYBin8qrrw",
        "outputId": "be62568b-f2a8-4ad0-c7e2-fdad0c05c452"
      },
      "execution_count": 3,
      "outputs": [
        {
          "output_type": "stream",
          "name": "stdout",
          "text": [
            "313/313 - 2s - loss: 0.1257 - accuracy: 0.9637 - 2s/epoch - 8ms/step\n",
            "The accuracy of the trained model is  96.3699996471405 %\n",
            "(10000, 28, 28)\n",
            "(10000,)\n"
          ]
        }
      ]
    },
    {
      "cell_type": "markdown",
      "source": [
        "# Task 2\n",
        "Decompose the MNIST training dataset into its PCA components"
      ],
      "metadata": {
        "id": "E-IFmZcqqw2x"
      }
    },
    {
      "cell_type": "code",
      "source": [
        "print(\"train_images.shape: \",np.shape(train_images))\n",
        "X=np.reshape(train_images,(60000,784))\n",
        "print(\"X.shape:\",np.shape(X))\n",
        "mu=np.mean(X,axis=0)\n",
        "x=X-mu\n",
        "#rho=np.dot(np.transpose(x),x)  #Make the covaraince matrix by hand\n",
        "rho=np.cov(x,rowvar=False) # Make the covaraince matrix by np.cov\n",
        "print(\"rho.shape:\",np.shape(rho))\n",
        "\n",
        "#Get the eigenvalues and vectors\n",
        "vals,vecs=linalg.eigh(rho)\n",
        "#vals is a 1-D array of the eigenvalues in ascending order, vecs is a columnwise array of the normalised\n",
        "# eigenvectors such that vecs[:,i] is the eigenvector correspondong to vals[i]\n",
        "print(\"vecs.shape:\",np.shape(vecs))\n",
        "print(\"vals.shape:\",np.shape(vals))\n",
        "vecs=np.flip(vecs)\n",
        "vals=np.flip(vals)\n",
        "\n"
      ],
      "metadata": {
        "colab": {
          "base_uri": "https://localhost:8080/"
        },
        "id": "pifDZGpiqwIP",
        "outputId": "0ba934bc-c91f-4c6f-8dd2-ea506fe92a8b"
      },
      "execution_count": 10,
      "outputs": [
        {
          "output_type": "stream",
          "name": "stdout",
          "text": [
            "train_images.shape:  (60000, 28, 28)\n",
            "X.shape: (60000, 784)\n",
            "rho.shape: (784, 784)\n",
            "vecs.shape: (784, 784)\n",
            "vals.shape: (784,)\n"
          ]
        }
      ]
    },
    {
      "cell_type": "markdown",
      "source": [
        "## Comment\n",
        "The vecs,vals variables are the eigenvectors and eigenvalues of the covariance which determines the direction and magnitude of the new reduced space and it is the PCA components."
      ],
      "metadata": {
        "id": "ZBh9ox0osctk"
      }
    },
    {
      "cell_type": "markdown",
      "source": [
        "# Task 3\n",
        "Use the N-best PCA components to make a new testing dataset (using the 10,000 MNIST test images) and make a plot of N vs testing accuracy using the neural network trained in 1) *WITOUT RETRAINING THE NETWORK*"
      ],
      "metadata": {
        "id": "mC2IB_ZitdvF"
      }
    },
    {
      "cell_type": "markdown",
      "source": [
        "## Mathematic to construct the N-best PCA components\n",
        "y is the reduced dimensional variable, v is the eigenvector of the covariance and x is the non-reduced dimensional variable.\n",
        "$$ P = x v $$\n",
        "$$ y = P v^T $$\n",
        "\n"
      ],
      "metadata": {
        "id": "cWQp0MLIwTPN"
      }
    },
    {
      "cell_type": "code",
      "source": [
        "# the N component goes from 0 to 784\n",
        "N=784\n",
        "\n",
        "# Decomposing the MNIST testing dataset into PCA component\n",
        "X_test=np.reshape(test_images,(10000,784))\n",
        "mu_test=np.mean(X_test,axis=0)\n",
        "x_test=X_test-mu_test             #ensure zero mean\n",
        "rho_test=np.cov(x_test,rowvar=False)    #cavariance for the 10,000 test images\n",
        "vals_test,vecs_test=linalg.eigh(rho_test)\n",
        "P_test=np.dot(x_test,vecs_test[:])\n",
        "\n",
        "#creating storage for accuracy corresponding to each Nth PCA component\n",
        "\n",
        "step=20\n",
        "\n",
        "N_test_accuracy=np.zeros(N)\n",
        "\n",
        "for i in range(0,N,step):\n",
        "\n",
        "        newImageN=(np.dot(P_test[:,0:i],vecs_test.T[0:i,:]))+mu_test\n",
        "\n",
        "        test_data_N = np.reshape(newImageN,[10000,28,28])\n",
        "        test_loss,test_acc= model.evaluate(test_data_N,test_labels,verbose=2)\n",
        "\n",
        "        N_test_accuracy[i]=test_acc #store accuracy\n",
        "\n",
        "N_accuracy=N_test_accuracy[0:N:step]\n",
        "\n"
      ],
      "metadata": {
        "colab": {
          "base_uri": "https://localhost:8080/"
        },
        "id": "pJ5b-XoFqp79",
        "outputId": "f7d5a8dc-b10d-421d-91b8-486c510548bc"
      },
      "execution_count": 116,
      "outputs": [
        {
          "output_type": "stream",
          "name": "stdout",
          "text": [
            "313/313 - 3s - loss: 8.3895 - accuracy: 0.0974 - 3s/epoch - 9ms/step\n",
            "313/313 - 2s - loss: 8.3895 - accuracy: 0.0974 - 2s/epoch - 7ms/step\n",
            "313/313 - 2s - loss: 8.3895 - accuracy: 0.0974 - 2s/epoch - 7ms/step\n",
            "313/313 - 3s - loss: 8.3895 - accuracy: 0.0974 - 3s/epoch - 10ms/step\n",
            "313/313 - 2s - loss: 8.3895 - accuracy: 0.0974 - 2s/epoch - 7ms/step\n",
            "313/313 - 2s - loss: 8.3895 - accuracy: 0.0974 - 2s/epoch - 7ms/step\n",
            "313/313 - 2s - loss: 8.3895 - accuracy: 0.0974 - 2s/epoch - 7ms/step\n",
            "313/313 - 2s - loss: 8.3895 - accuracy: 0.0974 - 2s/epoch - 7ms/step\n",
            "313/313 - 3s - loss: 8.3895 - accuracy: 0.0974 - 3s/epoch - 9ms/step\n",
            "313/313 - 2s - loss: 8.3894 - accuracy: 0.0974 - 2s/epoch - 7ms/step\n",
            "313/313 - 2s - loss: 8.3892 - accuracy: 0.0974 - 2s/epoch - 7ms/step\n",
            "313/313 - 2s - loss: 8.3888 - accuracy: 0.0974 - 2s/epoch - 7ms/step\n",
            "313/313 - 3s - loss: 8.3885 - accuracy: 0.0974 - 3s/epoch - 10ms/step\n",
            "313/313 - 2s - loss: 8.3874 - accuracy: 0.0974 - 2s/epoch - 7ms/step\n",
            "313/313 - 2s - loss: 8.3868 - accuracy: 0.0974 - 2s/epoch - 7ms/step\n",
            "313/313 - 2s - loss: 8.3859 - accuracy: 0.0974 - 2s/epoch - 7ms/step\n",
            "313/313 - 3s - loss: 8.3848 - accuracy: 0.0974 - 3s/epoch - 9ms/step\n",
            "313/313 - 2s - loss: 8.3838 - accuracy: 0.0974 - 2s/epoch - 7ms/step\n",
            "313/313 - 2s - loss: 8.3831 - accuracy: 0.0974 - 2s/epoch - 7ms/step\n",
            "313/313 - 3s - loss: 8.3830 - accuracy: 0.0974 - 3s/epoch - 10ms/step\n",
            "313/313 - 2s - loss: 8.3829 - accuracy: 0.0974 - 2s/epoch - 7ms/step\n",
            "313/313 - 2s - loss: 8.3824 - accuracy: 0.0974 - 2s/epoch - 7ms/step\n",
            "313/313 - 2s - loss: 8.3820 - accuracy: 0.0974 - 2s/epoch - 7ms/step\n",
            "313/313 - 3s - loss: 8.3814 - accuracy: 0.0974 - 3s/epoch - 8ms/step\n",
            "313/313 - 2s - loss: 8.3805 - accuracy: 0.0974 - 2s/epoch - 7ms/step\n",
            "313/313 - 2s - loss: 8.3811 - accuracy: 0.0974 - 2s/epoch - 7ms/step\n",
            "313/313 - 2s - loss: 8.3813 - accuracy: 0.0974 - 2s/epoch - 7ms/step\n",
            "313/313 - 3s - loss: 8.3791 - accuracy: 0.0974 - 3s/epoch - 10ms/step\n",
            "313/313 - 2s - loss: 8.3783 - accuracy: 0.0974 - 2s/epoch - 7ms/step\n",
            "313/313 - 2s - loss: 8.3755 - accuracy: 0.0974 - 2s/epoch - 7ms/step\n",
            "313/313 - 3s - loss: 8.3744 - accuracy: 0.0974 - 3s/epoch - 8ms/step\n",
            "313/313 - 3s - loss: 8.3745 - accuracy: 0.0974 - 3s/epoch - 8ms/step\n",
            "313/313 - 2s - loss: 8.3718 - accuracy: 0.0974 - 2s/epoch - 7ms/step\n",
            "313/313 - 2s - loss: 8.3699 - accuracy: 0.0974 - 2s/epoch - 7ms/step\n",
            "313/313 - 3s - loss: 8.3719 - accuracy: 0.0974 - 3s/epoch - 9ms/step\n",
            "313/313 - 2s - loss: 8.3587 - accuracy: 0.0974 - 2s/epoch - 7ms/step\n",
            "313/313 - 2s - loss: 8.2846 - accuracy: 0.0974 - 2s/epoch - 7ms/step\n",
            "313/313 - 3s - loss: 8.1225 - accuracy: 0.0976 - 3s/epoch - 10ms/step\n",
            "313/313 - 2s - loss: 7.5105 - accuracy: 0.0998 - 2s/epoch - 7ms/step\n",
            "313/313 - 2s - loss: 2.9545 - accuracy: 0.4357 - 2s/epoch - 7ms/step\n"
          ]
        }
      ]
    },
    {
      "cell_type": "markdown",
      "source": [
        "## Additional step to get a more accurate plot\n",
        "We need to also compute the accuracy for the nearly *non*-reduced image and add it to the N_accuracy array for the full complete detailed plot"
      ],
      "metadata": {
        "id": "Iyep4Shs67WW"
      }
    },
    {
      "cell_type": "code",
      "source": [
        "N_ending = np.array([781,782,783,784])\n",
        "\n",
        "N_accuracy_ending=np.zeros(784)\n",
        "\n",
        "for i in N_ending:\n",
        "    newImageN=(np.dot(P_test[:,0:i],vecs_test.T[0:i,:]))+mu_test\n",
        "\n",
        "    test_data_N = np.reshape(newImageN,[10000,28,28])\n",
        "    test_loss,test_acc= model.evaluate(test_data_N,test_labels,verbose=2)\n",
        "\n",
        "    N_accuracy_ending[i-1]=test_acc #store accuracy\n",
        "\n",
        "# the accuracy near the non-reduced image\n",
        "N_acc_ending=N_accuracy_ending[-4:]"
      ],
      "metadata": {
        "colab": {
          "base_uri": "https://localhost:8080/"
        },
        "id": "zKzhjBan663t",
        "outputId": "ec68f1d1-c159-4b51-f950-614371a362a4"
      },
      "execution_count": 83,
      "outputs": [
        {
          "output_type": "stream",
          "name": "stdout",
          "text": [
            "313/313 - 3s - loss: 2.5488 - accuracy: 0.5220 - 3s/epoch - 9ms/step\n",
            "313/313 - 3s - loss: 2.1285 - accuracy: 0.6105 - 3s/epoch - 9ms/step\n",
            "313/313 - 3s - loss: 1.2007 - accuracy: 0.8042 - 3s/epoch - 8ms/step\n",
            "313/313 - 3s - loss: 0.1257 - accuracy: 0.9637 - 3s/epoch - 9ms/step\n"
          ]
        }
      ]
    },
    {
      "cell_type": "markdown",
      "source": [
        "## Plot of N vs testing accuracy"
      ],
      "metadata": {
        "id": "-AcPB1zm61w5"
      }
    },
    {
      "cell_type": "code",
      "source": [
        "\n",
        "#merge the accuracy\n",
        "Final_N_accuracy = ( np.concatenate((N_accuracy,N_acc_ending), axis=0) ) *100\n",
        "\n",
        "#merge the N\n",
        "N_x= np.concatenate((np.arange(0,784,20),N_ending),axis=0)\n",
        "\n",
        "fig,ax=plt.subplots()\n",
        "ax.plot(N_x,Final_N_accuracy,marker='o')\n",
        "ax.set_xlabel('N_best PCA component')\n",
        "ax.set_ylabel('Accuracy')\n",
        "ax.title.set_text('Accuracy of Neutral Network Model')\n"
      ],
      "metadata": {
        "colab": {
          "base_uri": "https://localhost:8080/",
          "height": 926
        },
        "id": "s06ZAjnJ2LAY",
        "outputId": "1a8a6d2a-d6d8-4008-cee4-f79c4379461d"
      },
      "execution_count": 94,
      "outputs": [
        {
          "output_type": "display_data",
          "data": {
            "text/plain": [
              "<Figure size 1280x960 with 1 Axes>"
            ],
            "image/png": "[encoded data removed]"
          },
          "metadata": {}
        }
      ]
    },
    {
      "cell_type": "markdown",
      "source": [
        "### Result\n",
        "The accuracy is very low for low number of N which is to be expected as the image has been reduced to a much lower dimensionality and the neutral network model is trained only with higher dimensionality training images. But we are able to fully recover the dimensionality of the testing image when N=784 by which the model have the same accuracy as when tested with the MNIST test image.\n",
        "Therefore, we can conclude that the convolutional neutral network perform very badly when we reduce the dimensionality of the test image."
      ],
      "metadata": {
        "id": "8akwB9vAB4_X"
      }
    },
    {
      "cell_type": "markdown",
      "source": [
        "## Task 4\n",
        "Now using the 100-best PCA components make a new training dataset (using the 60,000 MNIST training images) and retrain your neural network from 1)"
      ],
      "metadata": {
        "id": "ib8Qa15uB9Ho"
      }
    },
    {
      "cell_type": "code",
      "source": [
        "# New training with new dataset from 100-best PCA component\n",
        "\n",
        "P_train=np.dot(x,vecs)       #we have already decompose the train image into PCA component in Task 1\n",
        "\n",
        "\n",
        "newImage100=(np.dot(P_train[:,0:100],vecs.T[0:100,:]))+mu    #new training dataset which undergo dimension-reduction\n",
        "\n",
        "\n",
        "# transform the dataset from (60000,784) to (60000,28,28)\n",
        "new_training_dataset=np.flipud(np.reshape(newImage100[:,:],[60000,28,28]))\n",
        "\n",
        "print(new_training_dataset.shape)"
      ],
      "metadata": {
        "id": "B0p-GGYa4qSv",
        "colab": {
          "base_uri": "https://localhost:8080/"
        },
        "outputId": "a63da82b-0e4a-4fa7-ac65-759d590f2824"
      },
      "execution_count": 118,
      "outputs": [
        {
          "output_type": "stream",
          "name": "stdout",
          "text": [
            "(60000, 28, 28)\n"
          ]
        }
      ]
    },
    {
      "cell_type": "markdown",
      "source": [
        "### Training model with new training dataset\n",
        "retrain with new Image100 dataset"
      ],
      "metadata": {
        "id": "qkcFFV9tDbnS"
      }
    },
    {
      "cell_type": "code",
      "source": [
        "\n",
        "model2 = keras.Sequential([\n",
        "    keras.layers.Conv2D(32,kernel_size=(3,3),activation='relu', input_shape=(28,28,1),padding='same'),\n",
        "    keras.layers.AveragePooling2D(pool_size=(3,3),padding='same'),\n",
        "    keras.layers.Conv2D(64,kernel_size=(3,3),activation='relu',padding='same'),\n",
        "    keras.layers.AveragePooling2D(pool_size=(3,3),padding='same'),\n",
        "    keras.layers.Flatten(),\n",
        "    keras.layers.Dense(30,activation='relu'),\n",
        "    keras.layers.Dense(10,activation='softmax')\n",
        "])\n",
        "\n",
        "model2.compile(loss=tf.keras.losses.SparseCategoricalCrossentropy(from_logits=True), optimizer=tf.keras.optimizers.SGD(lr=1.0),\n",
        "              metrics=['accuracy'])\n",
        "model2.summary()\n",
        "\n",
        "history2=model2.fit(new_training_dataset, train_labels,batch_size=128, epochs=30)"
      ],
      "metadata": {
        "colab": {
          "base_uri": "https://localhost:8080/"
        },
        "id": "QtQ3rYEqykKy",
        "outputId": "bc5735e2-a231-4fe3-8c24-e4a3af95889b"
      },
      "execution_count": 99,
      "outputs": [
        {
          "output_type": "stream",
          "name": "stderr",
          "text": [
            "WARNING:absl:`lr` is deprecated in Keras optimizer, please use `learning_rate` or use the legacy optimizer, e.g.,tf.keras.optimizers.legacy.SGD.\n"
          ]
        },
        {
          "output_type": "stream",
          "name": "stdout",
          "text": [
            "Model: \"sequential_1\"\n",
            "_________________________________________________________________\n",
            " Layer (type)                Output Shape              Param #   \n",
            "=================================================================\n",
            " conv2d_2 (Conv2D)           (None, 28, 28, 32)        320       \n",
            "                                                                 \n",
            " average_pooling2d_2 (Avera  (None, 10, 10, 32)        0         \n",
            " gePooling2D)                                                    \n",
            "                                                                 \n",
            " conv2d_3 (Conv2D)           (None, 10, 10, 64)        18496     \n",
            "                                                                 \n",
            " average_pooling2d_3 (Avera  (None, 4, 4, 64)          0         \n",
            " gePooling2D)                                                    \n",
            "                                                                 \n",
            " flatten_1 (Flatten)         (None, 1024)              0         \n",
            "                                                                 \n",
            " dense_2 (Dense)             (None, 30)                30750     \n",
            "                                                                 \n",
            " dense_3 (Dense)             (None, 10)                310       \n",
            "                                                                 \n",
            "=================================================================\n",
            "Total params: 49876 (194.83 KB)\n",
            "Trainable params: 49876 (194.83 KB)\n",
            "Non-trainable params: 0 (0.00 Byte)\n",
            "_________________________________________________________________\n",
            "Epoch 1/30\n"
          ]
        },
        {
          "output_type": "stream",
          "name": "stderr",
          "text": [
            "/usr/local/lib/python3.10/dist-packages/keras/src/backend.py:5727: UserWarning: \"`sparse_categorical_crossentropy` received `from_logits=True`, but the `output` argument was produced by a Softmax activation and thus does not represent logits. Was this intended?\n",
            "  output, from_logits = _get_logits(\n"
          ]
        },
        {
          "output_type": "stream",
          "name": "stdout",
          "text": [
            "469/469 [==============================] - 31s 65ms/step - loss: 2.3018 - accuracy: 0.1109\n",
            "Epoch 2/30\n",
            "469/469 [==============================] - 36s 78ms/step - loss: 2.3013 - accuracy: 0.1124\n",
            "Epoch 3/30\n",
            "469/469 [==============================] - 33s 70ms/step - loss: 2.3012 - accuracy: 0.1124\n",
            "Epoch 4/30\n",
            "469/469 [==============================] - 36s 77ms/step - loss: 2.3012 - accuracy: 0.1124\n",
            "Epoch 5/30\n",
            "469/469 [==============================] - 40s 86ms/step - loss: 2.3012 - accuracy: 0.1124\n",
            "Epoch 6/30\n",
            "469/469 [==============================] - 34s 72ms/step - loss: 2.3012 - accuracy: 0.1124\n",
            "Epoch 7/30\n",
            "469/469 [==============================] - 42s 90ms/step - loss: 2.3012 - accuracy: 0.1124\n",
            "Epoch 8/30\n",
            "469/469 [==============================] - 32s 69ms/step - loss: 2.3012 - accuracy: 0.1124\n",
            "Epoch 9/30\n",
            "469/469 [==============================] - 38s 82ms/step - loss: 2.3012 - accuracy: 0.1124\n",
            "Epoch 10/30\n",
            "469/469 [==============================] - 47s 101ms/step - loss: 2.3012 - accuracy: 0.1124\n",
            "Epoch 11/30\n",
            "469/469 [==============================] - 31s 67ms/step - loss: 2.3012 - accuracy: 0.1124\n",
            "Epoch 12/30\n",
            "469/469 [==============================] - 35s 74ms/step - loss: 2.3012 - accuracy: 0.1124\n",
            "Epoch 13/30\n",
            "469/469 [==============================] - 39s 84ms/step - loss: 2.3012 - accuracy: 0.1124\n",
            "Epoch 14/30\n",
            "469/469 [==============================] - 38s 82ms/step - loss: 2.3012 - accuracy: 0.1124\n",
            "Epoch 15/30\n",
            "469/469 [==============================] - 32s 68ms/step - loss: 2.3012 - accuracy: 0.1124\n",
            "Epoch 16/30\n",
            "469/469 [==============================] - 30s 64ms/step - loss: 2.3012 - accuracy: 0.1124\n",
            "Epoch 17/30\n",
            "469/469 [==============================] - 31s 66ms/step - loss: 2.3012 - accuracy: 0.1124\n",
            "Epoch 18/30\n",
            "469/469 [==============================] - 34s 73ms/step - loss: 2.3011 - accuracy: 0.1124\n",
            "Epoch 19/30\n",
            "469/469 [==============================] - 50s 108ms/step - loss: 2.3011 - accuracy: 0.1124\n",
            "Epoch 20/30\n",
            "469/469 [==============================] - 38s 81ms/step - loss: 2.3011 - accuracy: 0.1124\n",
            "Epoch 21/30\n",
            "469/469 [==============================] - 30s 63ms/step - loss: 2.3011 - accuracy: 0.1124\n",
            "Epoch 22/30\n",
            "469/469 [==============================] - 50s 107ms/step - loss: 2.3011 - accuracy: 0.1124\n",
            "Epoch 23/30\n",
            "469/469 [==============================] - 30s 64ms/step - loss: 2.3011 - accuracy: 0.1124\n",
            "Epoch 24/30\n",
            "469/469 [==============================] - 31s 66ms/step - loss: 2.3011 - accuracy: 0.1124\n",
            "Epoch 25/30\n",
            "469/469 [==============================] - 30s 64ms/step - loss: 2.3011 - accuracy: 0.1124\n",
            "Epoch 26/30\n",
            "469/469 [==============================] - 31s 66ms/step - loss: 2.3011 - accuracy: 0.1124\n",
            "Epoch 27/30\n",
            "469/469 [==============================] - 31s 65ms/step - loss: 2.3011 - accuracy: 0.1124\n",
            "Epoch 28/30\n",
            "469/469 [==============================] - 30s 64ms/step - loss: 2.3011 - accuracy: 0.1124\n",
            "Epoch 29/30\n",
            "469/469 [==============================] - 31s 66ms/step - loss: 2.3011 - accuracy: 0.1124\n",
            "Epoch 30/30\n",
            "469/469 [==============================] - 30s 64ms/step - loss: 2.3011 - accuracy: 0.1124\n"
          ]
        }
      ]
    },
    {
      "cell_type": "markdown",
      "source": [
        "## Comment\n",
        "The performance of the model is ~11.24% which is not great. This is expected as we have reduced the dimension of the image hence the model would be less accuracy at recognising the MNIST training data. Therefore, we would expect the performance of the model under the dimensionality-reduced test image to perform at best with an accuracy oof ~11.24%"
      ],
      "metadata": {
        "id": "U0l6JchHIagK"
      }
    },
    {
      "cell_type": "markdown",
      "source": [
        "## Task 5\n",
        "Repeat step 3 using your new neural network from 4"
      ],
      "metadata": {
        "id": "0DTKaByPBp2_"
      }
    },
    {
      "cell_type": "code",
      "source": [
        "# the N component goes from 0 to 784\n",
        "N_100=784\n",
        "\n",
        "# Decomposing the MNIST testing dataset into PCA component\n",
        "X_test_100=np.reshape(test_images,(10000,784))\n",
        "mu_test_100=np.mean(X_test_100,axis=0)\n",
        "x_test_100=X_test_100-mu_test_100             #ensure zero mean\n",
        "rho_test_100=np.cov(x_test_100,rowvar=False)    #cavariance for the 10,000 test images\n",
        "vals_test_100,vecs_test_100=linalg.eigh(rho_test_100)\n",
        "P_test_100=np.dot(x_test_100,vecs_test_100)\n",
        "\n",
        "#creating storage for accuracy corresponding to each Nth PCA component\n",
        "\n",
        "step_100=20\n",
        "\n",
        "N_test_accuracy_100=np.zeros(N_100)\n",
        "\n",
        "for i in range(0,N_100,step_100):\n",
        "\n",
        "        newImageN_100=(np.dot(P_test_100[:,0:i],vecs_test_100.T[0:i,:]))+mu_test_100\n",
        "\n",
        "        test_data_N_100 = np.reshape(newImageN_100,[10000,28,28])\n",
        "        test_loss_100,test_acc_100= model2.evaluate(test_data_N_100,test_labels,verbose=2)\n",
        "\n",
        "        N_test_accuracy_100[i]=test_acc_100 #store accuracy\n",
        "\n",
        "N_accuracy_100=N_test_accuracy_100[0:N:step]\n",
        "\n",
        "# refining the edge\n",
        "N_ending_100 = np.array([781,782,783,784])\n",
        "\n",
        "N_accuracy_ending_100=np.zeros(784)\n",
        "\n",
        "for i in N_ending_100:\n",
        "    newImageN_100=(np.dot(P_test_100[:,0:i],vecs_test_100.T[0:i,:]))+mu_test_100\n",
        "\n",
        "    test_data_N_100 = np.reshape(newImageN_100,[10000,28,28])\n",
        "    test_loss_100,test_acc_100= model2.evaluate(test_data_N_100,test_labels,verbose=2)\n",
        "\n",
        "    N_accuracy_ending_100[i-1]=test_acc_100 #store accuracy\n",
        "\n",
        "# the accuracy near the non-reduced image\n",
        "N_acc_ending_100=N_accuracy_ending_100[-4:]\n",
        "\n",
        "#merge the accuracy\n",
        "Final_N_accuracy_100 = ( np.concatenate((N_accuracy_100,N_acc_ending_100), axis=0) ) *100\n",
        "\n",
        "#merge the N\n",
        "N_x_100= np.concatenate((np.arange(0,784,20),N_ending_100),axis=0)\n",
        "\n",
        "fig,ax=plt.subplots()\n",
        "ax.plot(N_x_100,Final_N_accuracy_100,marker='o')\n",
        "ax.set_xlabel('N_best PCA component')\n",
        "ax.set_ylabel('Accuracy')\n",
        "ax.title.set_text('Accuracy of Neutral Network Model')"
      ],
      "metadata": {
        "colab": {
          "base_uri": "https://localhost:8080/",
          "height": 1000
        },
        "id": "OzmrRMsYBpKu",
        "outputId": "85acf11b-2e1c-40ff-9599-d99b5fa9819c"
      },
      "execution_count": 102,
      "outputs": [
        {
          "output_type": "stream",
          "name": "stderr",
          "text": [
            "/usr/local/lib/python3.10/dist-packages/keras/src/backend.py:5727: UserWarning: \"`sparse_categorical_crossentropy` received `from_logits=True`, but the `output` argument was produced by a Softmax activation and thus does not represent logits. Was this intended?\n",
            "  output, from_logits = _get_logits(\n"
          ]
        },
        {
          "output_type": "stream",
          "name": "stdout",
          "text": [
            "313/313 - 2s - loss: 2.3010 - accuracy: 0.1135 - 2s/epoch - 7ms/step\n",
            "313/313 - 2s - loss: 2.3010 - accuracy: 0.1135 - 2s/epoch - 7ms/step\n",
            "313/313 - 2s - loss: 2.3010 - accuracy: 0.1135 - 2s/epoch - 7ms/step\n",
            "313/313 - 3s - loss: 2.3010 - accuracy: 0.1135 - 3s/epoch - 10ms/step\n",
            "313/313 - 2s - loss: 2.3010 - accuracy: 0.1135 - 2s/epoch - 7ms/step\n",
            "313/313 - 2s - loss: 2.3010 - accuracy: 0.1135 - 2s/epoch - 7ms/step\n",
            "313/313 - 2s - loss: 2.3010 - accuracy: 0.1135 - 2s/epoch - 7ms/step\n",
            "313/313 - 3s - loss: 2.3010 - accuracy: 0.1135 - 3s/epoch - 9ms/step\n",
            "313/313 - 2s - loss: 2.3010 - accuracy: 0.1135 - 2s/epoch - 7ms/step\n",
            "313/313 - 2s - loss: 2.3010 - accuracy: 0.1135 - 2s/epoch - 7ms/step\n",
            "313/313 - 2s - loss: 2.3010 - accuracy: 0.1135 - 2s/epoch - 7ms/step\n",
            "313/313 - 3s - loss: 2.3010 - accuracy: 0.1135 - 3s/epoch - 9ms/step\n",
            "313/313 - 2s - loss: 2.3010 - accuracy: 0.1135 - 2s/epoch - 7ms/step\n",
            "313/313 - 2s - loss: 2.3010 - accuracy: 0.1135 - 2s/epoch - 7ms/step\n",
            "313/313 - 3s - loss: 2.3010 - accuracy: 0.1135 - 3s/epoch - 9ms/step\n",
            "313/313 - 2s - loss: 2.3010 - accuracy: 0.1135 - 2s/epoch - 8ms/step\n",
            "313/313 - 2s - loss: 2.3010 - accuracy: 0.1135 - 2s/epoch - 7ms/step\n",
            "313/313 - 2s - loss: 2.3010 - accuracy: 0.1135 - 2s/epoch - 7ms/step\n",
            "313/313 - 2s - loss: 2.3010 - accuracy: 0.1135 - 2s/epoch - 7ms/step\n",
            "313/313 - 3s - loss: 2.3010 - accuracy: 0.1135 - 3s/epoch - 10ms/step\n",
            "313/313 - 2s - loss: 2.3010 - accuracy: 0.1135 - 2s/epoch - 7ms/step\n",
            "313/313 - 2s - loss: 2.3010 - accuracy: 0.1135 - 2s/epoch - 7ms/step\n",
            "313/313 - 2s - loss: 2.3010 - accuracy: 0.1135 - 2s/epoch - 8ms/step\n",
            "313/313 - 2s - loss: 2.3010 - accuracy: 0.1135 - 2s/epoch - 8ms/step\n",
            "313/313 - 2s - loss: 2.3010 - accuracy: 0.1135 - 2s/epoch - 7ms/step\n",
            "313/313 - 2s - loss: 2.3010 - accuracy: 0.1135 - 2s/epoch - 7ms/step\n",
            "313/313 - 2s - loss: 2.3010 - accuracy: 0.1135 - 2s/epoch - 7ms/step\n",
            "313/313 - 3s - loss: 2.3010 - accuracy: 0.1135 - 3s/epoch - 8ms/step\n",
            "313/313 - 2s - loss: 2.3010 - accuracy: 0.1135 - 2s/epoch - 7ms/step\n",
            "313/313 - 2s - loss: 2.3010 - accuracy: 0.1135 - 2s/epoch - 7ms/step\n",
            "313/313 - 2s - loss: 2.3010 - accuracy: 0.1135 - 2s/epoch - 7ms/step\n",
            "313/313 - 3s - loss: 2.3010 - accuracy: 0.1135 - 3s/epoch - 10ms/step\n",
            "313/313 - 2s - loss: 2.3010 - accuracy: 0.1135 - 2s/epoch - 7ms/step\n",
            "313/313 - 2s - loss: 2.3010 - accuracy: 0.1135 - 2s/epoch - 7ms/step\n",
            "313/313 - 3s - loss: 2.3010 - accuracy: 0.1135 - 3s/epoch - 9ms/step\n",
            "313/313 - 2s - loss: 2.3010 - accuracy: 0.1135 - 2s/epoch - 7ms/step\n",
            "313/313 - 2s - loss: 2.3010 - accuracy: 0.1135 - 2s/epoch - 7ms/step\n",
            "313/313 - 2s - loss: 2.3009 - accuracy: 0.1135 - 2s/epoch - 7ms/step\n",
            "313/313 - 2s - loss: 2.3009 - accuracy: 0.1135 - 2s/epoch - 7ms/step\n",
            "313/313 - 2s - loss: 2.3001 - accuracy: 0.1135 - 2s/epoch - 8ms/step\n",
            "313/313 - 2s - loss: 2.2998 - accuracy: 0.1135 - 2s/epoch - 7ms/step\n",
            "313/313 - 2s - loss: 2.2999 - accuracy: 0.1135 - 2s/epoch - 7ms/step\n",
            "313/313 - 2s - loss: 2.3001 - accuracy: 0.1135 - 2s/epoch - 7ms/step\n",
            "313/313 - 3s - loss: 2.3024 - accuracy: 0.1135 - 3s/epoch - 8ms/step\n"
          ]
        },
        {
          "output_type": "display_data",
          "data": {
            "text/plain": [
              "<Figure size 1280x960 with 1 Axes>"
            ],
            "image/png": "[encoded data removed]"
          },
          "metadata": {}
        }
      ]
    },
    {
      "cell_type": "markdown",
      "source": [
        "## Comment\n",
        "The model perform equally well across all dimensionality"
      ],
      "metadata": {
        "id": "PlvYUYDrJnqu"
      }
    },
    {
      "cell_type": "markdown",
      "source": [
        "## Task 5\n",
        "Finally repeat steps 4 and 5 using a network trained with the best 20 components"
      ],
      "metadata": {
        "id": "Cax84E1dDB9C"
      }
    },
    {
      "cell_type": "code",
      "source": [
        "# New training dataset with 100-best PCA component\n",
        "\n",
        "P_train=np.dot(x,vecs)       #we have already decompose the train image into PCA component in Task 1\n",
        "\n",
        "\n",
        "newImage20=(np.dot(P_train[:,0:20],vecs.T[0:20,:]))+mu\n",
        "\n",
        "\n",
        "# transform the dataset from (60000,784) to (60000,28,28)\n",
        "new_training_dataset_20=np.flipud(np.reshape(newImage20[:,:],[60000,28,28]))\n",
        "\n",
        "\n",
        "model3 = keras.Sequential([\n",
        "    keras.layers.Conv2D(32,kernel_size=(3,3),activation='relu', input_shape=(28,28,1),padding='same'),\n",
        "    keras.layers.AveragePooling2D(pool_size=(3,3),padding='same'),\n",
        "    keras.layers.Conv2D(64,kernel_size=(3,3),activation='relu',padding='same'),\n",
        "    keras.layers.AveragePooling2D(pool_size=(3,3),padding='same'),\n",
        "    keras.layers.Flatten(),\n",
        "    keras.layers.Dense(30,activation='relu'),\n",
        "    keras.layers.Dense(10,activation='softmax')\n",
        "])\n",
        "\n",
        "model3.compile(loss=tf.keras.losses.SparseCategoricalCrossentropy(from_logits=True), optimizer=tf.keras.optimizers.SGD(lr=1.0),\n",
        "              metrics=['accuracy'])\n",
        "model3.summary()\n",
        "\n",
        "history3=model3.fit(new_training_dataset_20, train_labels,batch_size=128, epochs=30)"
      ],
      "metadata": {
        "colab": {
          "base_uri": "https://localhost:8080/"
        },
        "id": "XmjYBcimDBc7",
        "outputId": "bf13339f-8c13-4f12-d883-659a7c2734b2"
      },
      "execution_count": null,
      "outputs": [
        {
          "output_type": "stream",
          "name": "stderr",
          "text": [
            "WARNING:absl:`lr` is deprecated in Keras optimizer, please use `learning_rate` or use the legacy optimizer, e.g.,tf.keras.optimizers.legacy.SGD.\n"
          ]
        },
        {
          "output_type": "stream",
          "name": "stdout",
          "text": [
            "Model: \"sequential_7\"\n",
            "_________________________________________________________________\n",
            " Layer (type)                Output Shape              Param #   \n",
            "=================================================================\n",
            " conv2d_14 (Conv2D)          (None, 28, 28, 32)        320       \n",
            "                                                                 \n",
            " average_pooling2d_14 (Aver  (None, 10, 10, 32)        0         \n",
            " agePooling2D)                                                   \n",
            "                                                                 \n",
            " conv2d_15 (Conv2D)          (None, 10, 10, 64)        18496     \n",
            "                                                                 \n",
            " average_pooling2d_15 (Aver  (None, 4, 4, 64)          0         \n",
            " agePooling2D)                                                   \n",
            "                                                                 \n",
            " flatten_7 (Flatten)         (None, 1024)              0         \n",
            "                                                                 \n",
            " dense_14 (Dense)            (None, 30)                30750     \n",
            "                                                                 \n",
            " dense_15 (Dense)            (None, 10)                310       \n",
            "                                                                 \n",
            "=================================================================\n",
            "Total params: 49876 (194.83 KB)\n",
            "Trainable params: 49876 (194.83 KB)\n",
            "Non-trainable params: 0 (0.00 Byte)\n",
            "_________________________________________________________________\n",
            "Epoch 1/30\n"
          ]
        },
        {
          "output_type": "stream",
          "name": "stderr",
          "text": [
            "/usr/local/lib/python3.10/dist-packages/keras/src/backend.py:5727: UserWarning: \"`sparse_categorical_crossentropy` received `from_logits=True`, but the `output` argument was produced by a Softmax activation and thus does not represent logits. Was this intended?\n",
            "  output, from_logits = _get_logits(\n"
          ]
        },
        {
          "output_type": "stream",
          "name": "stdout",
          "text": [
            "469/469 [==============================] - 33s 68ms/step - loss: 2.3018 - accuracy: 0.1098\n",
            "Epoch 2/30\n",
            "469/469 [==============================] - 30s 63ms/step - loss: 2.3014 - accuracy: 0.1124\n",
            "Epoch 3/30\n",
            "469/469 [==============================] - 30s 63ms/step - loss: 2.3013 - accuracy: 0.1124\n",
            "Epoch 4/30\n",
            "469/469 [==============================] - 31s 66ms/step - loss: 2.3013 - accuracy: 0.1124\n",
            "Epoch 5/30\n",
            "469/469 [==============================] - 30s 64ms/step - loss: 2.3013 - accuracy: 0.1124\n",
            "Epoch 6/30\n",
            "469/469 [==============================] - 30s 65ms/step - loss: 2.3013 - accuracy: 0.1124\n",
            "Epoch 7/30\n",
            "469/469 [==============================] - 30s 65ms/step - loss: 2.3013 - accuracy: 0.1124\n",
            "Epoch 8/30\n",
            "469/469 [==============================] - 30s 64ms/step - loss: 2.3013 - accuracy: 0.1124\n",
            "Epoch 9/30\n",
            "469/469 [==============================] - 35s 75ms/step - loss: 2.3012 - accuracy: 0.1124\n",
            "Epoch 10/30\n",
            "469/469 [==============================] - 32s 67ms/step - loss: 2.3012 - accuracy: 0.1124\n",
            "Epoch 11/30\n",
            "469/469 [==============================] - 31s 66ms/step - loss: 2.3012 - accuracy: 0.1124\n",
            "Epoch 12/30\n",
            "469/469 [==============================] - 30s 64ms/step - loss: 2.3012 - accuracy: 0.1124\n",
            "Epoch 13/30\n",
            "469/469 [==============================] - 31s 66ms/step - loss: 2.3012 - accuracy: 0.1124\n",
            "Epoch 14/30\n",
            "469/469 [==============================] - 30s 65ms/step - loss: 2.3012 - accuracy: 0.1124\n",
            "Epoch 15/30\n",
            "469/469 [==============================] - 30s 64ms/step - loss: 2.3012 - accuracy: 0.1124\n",
            "Epoch 16/30\n",
            "469/469 [==============================] - 31s 66ms/step - loss: 2.3012 - accuracy: 0.1124\n",
            "Epoch 17/30\n",
            "469/469 [==============================] - 30s 64ms/step - loss: 2.3012 - accuracy: 0.1124\n",
            "Epoch 18/30\n",
            "317/469 [===================>..........] - ETA: 10s - loss: 2.3013 - accuracy: 0.1124"
          ]
        }
      ]
    },
    {
      "cell_type": "code",
      "source": [
        "# the N component goes from 0 to 784 from 28x28 pixel\n",
        "N_20=784\n",
        "\n",
        "# Decomposing the MNIST testing dataset into PCA component\n",
        "X_test_20=np.reshape(test_images,(10000,784))\n",
        "mu_test_20=np.mean(X_test_20,axis=0)\n",
        "x_test_20=X_test_20-mu_test_20             #ensure zero mean\n",
        "rho_test_20=np.cov(x_test_20,rowvar=False)    #cavariance for the 10,000 test images\n",
        "vals_test_20,vecs_test_20=linalg.eigh(rho_test_20)\n",
        "P_test_20=np.dot(x_test_20,vecs_test_20)\n",
        "\n",
        "#creating storage for accuracy corresponding to each Nth PCA component\n",
        "\n",
        "step_20=20\n",
        "\n",
        "N_test_accuracy_20=np.zeros(N_20)\n",
        "\n",
        "for i in range(0,N_20,step_20):\n",
        "\n",
        "        newImageN_20=(np.dot(P_test_20[:,0:i],vecs_test_20.T[0:i,:]))+mu_test_20\n",
        "\n",
        "        test_data_N_20 = np.reshape(newImageN_20,[10000,28,28])\n",
        "        test_loss_20,test_acc_20= model3.evaluate(test_data_N_20,test_labels,verbose=2)\n",
        "\n",
        "        N_test_accuracy_20[i]=test_acc_20 #store accuracy\n",
        "\n",
        "N_accuracy_20=N_test_accuracy_20[0:N:step]\n",
        "\n",
        "# refining the edge\n",
        "N_ending_20 = np.array([781,782,783,784])\n",
        "\n",
        "N_accuracy_ending_20=np.zeros(784)\n",
        "\n",
        "for i in N_ending_20:\n",
        "    newImageN_20=(np.dot(P_test_20[:,0:i],vecs_test_20.T[0:i,:]))+mu_test_20\n",
        "\n",
        "    test_data_N_20 = np.reshape(newImageN_20,[10000,28,28])\n",
        "    test_loss_20,test_acc_20= model3.evaluate(test_data_N_20,test_labels,verbose=2)\n",
        "\n",
        "    N_accuracy_ending_20[i-1]=test_acc_20 #store accuracy\n",
        "\n",
        "# the accuracy near the non-reduced image\n",
        "N_acc_ending_20=N_accuracy_ending_20[-4:]\n",
        "\n",
        "#merge the accuracy\n",
        "Final_N_accuracy_20 = ( np.concatenate((N_accuracy_20,N_acc_ending_20), axis=0) ) *100\n",
        "\n",
        "#merge the N\n",
        "N_x_20= np.concatenate((np.arange(0,784,20),N_ending_20),axis=0)\n",
        "\n",
        "fig,ax=plt.subplots()\n",
        "ax.plot(N_x_20,Final_N_accuracy_20,marker='o')\n",
        "ax.set_xlabel('N_best PCA component')\n",
        "ax.set_ylabel('Accuracy')\n",
        "ax.title.set_text('Accuracy of Neutral Network Model')"
      ],
      "metadata": {
        "id": "kqKR_AwoDVjc"
      },
      "execution_count": null,
      "outputs": []
    },
    {
      "cell_type": "markdown",
      "source": [
        "## Comment\n",
        "Both neutral network model trained with 100-best PCA and 20-best PCA perform exactly the same with an accuracy of 11.24% across all N dimensionality of the reduced test image"
      ],
      "metadata": {
        "id": "sOOzaNCAUc9D"
      }
    },
    {
      "cell_type": "code",
      "source": [],
      "metadata": {
        "id": "LwZe6BdFHJYj"
      },
      "execution_count": null,
      "outputs": []
    }
  ]
}